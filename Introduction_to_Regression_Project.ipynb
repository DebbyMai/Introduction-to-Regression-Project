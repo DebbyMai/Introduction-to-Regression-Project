{
  "nbformat": 4,
  "nbformat_minor": 0,
  "metadata": {
    "colab": {
      "name": "Introduction to Regression Project",
      "provenance": [],
      "collapsed_sections": [],
      "toc_visible": true
    },
    "kernelspec": {
      "display_name": "Python 3",
      "language": "python",
      "name": "python3"
    },
    "language_info": {
      "codemirror_mode": {
        "name": "ipython",
        "version": 3
      },
      "file_extension": ".py",
      "mimetype": "text/x-python",
      "name": "python",
      "nbconvert_exporter": "python",
      "pygments_lexer": "ipython3",
      "version": "3.7.4"
    }
  },
  "cells": [
    {
      "cell_type": "markdown",
      "metadata": {
        "id": "czJUgQ-6cA_p"
      },
      "source": [
        "#  Introduction to Regression Project: Mobile carrier Megaline"
      ]
    },
    {
      "cell_type": "markdown",
      "metadata": {
        "id": "gLkzO7IdcA_r"
      },
      "source": [
        "## 1. Defining the Question"
      ]
    },
    {
      "cell_type": "markdown",
      "metadata": {
        "id": "JABkWE3JcA_s"
      },
      "source": [
        "### a) Specifying the Data Analysis Question"
      ]
    },
    {
      "cell_type": "markdown",
      "metadata": {
        "id": "1sGZ56H7cA_t"
      },
      "source": [
        "The task is  to develop a model that will pick the right plan\n"
      ]
    },
    {
      "cell_type": "markdown",
      "metadata": {
        "id": "8XxsPjnQcA_t"
      },
      "source": [
        "### b) Defining the Metric for Success"
      ]
    },
    {
      "cell_type": "markdown",
      "metadata": {
        "id": "100AFlNtcA_u"
      },
      "source": [
        "We will have accomplished our objective if we develop a model with the highest possible accuracy"
      ]
    },
    {
      "cell_type": "markdown",
      "metadata": {
        "id": "SrzhnVvbcA_v"
      },
      "source": [
        "### c) Understanding the Context"
      ]
    },
    {
      "cell_type": "markdown",
      "metadata": {
        "id": "ehi1alkgcA_v"
      },
      "source": [
        "Mobile carrier Megaline has found out that many of their subscribers use legacy plans.\n",
        "They want to develop a model that would analyze subscribers' behavior and recommend\n",
        "one of Megaline's newer plans: Smart or Ultra.\n",
        "You have access to behavior data about subscribers who have already switched to the\n",
        "new plans (from the project for the Statistical Data Analysis course). For this\n",
        "classification task, you need to develop a model that will pick the right plan. Since you’ve\n",
        "already performed the data preprocessing step, you can move straight to creating the\n",
        "model.\n",
        "Develop a model with the highest possible accuracy. In this project, the threshold for\n",
        "accuracy is 0.75. Check the accuracy using the test dataset.\n"
      ]
    },
    {
      "cell_type": "markdown",
      "metadata": {
        "id": "IV0fyMl_cA_w"
      },
      "source": [
        "### d) Recording the Experimental Design"
      ]
    },
    {
      "cell_type": "markdown",
      "metadata": {
        "id": "2-crdiQgcA_x"
      },
      "source": [
        "1. Load libraries and datasets.\n",
        "2. Prepare the data\n",
        "3. Analyze the data\n",
        "4. Machine learning modelling \n",
        "5. Predictions \n",
        "6. Conclusions and recommedation"
      ]
    },
    {
      "cell_type": "markdown",
      "metadata": {
        "id": "rz5Qg2aocA_x"
      },
      "source": [
        "### e) Data Relevance"
      ]
    },
    {
      "cell_type": "markdown",
      "metadata": {
        "id": "y3c-bdsRcA_y"
      },
      "source": [
        "The given data sets were relevant in answering the research question."
      ]
    },
    {
      "cell_type": "markdown",
      "metadata": {
        "id": "jefIDLCVcA_z"
      },
      "source": [
        "## 2. Data Cleaning & Analysis"
      ]
    },
    {
      "cell_type": "markdown",
      "metadata": {
        "id": "lik2LTbnah-x"
      },
      "source": [
        "###2.1.   Data cleaning & exploration"
      ]
    },
    {
      "cell_type": "code",
      "metadata": {
        "id": "jx0bMH04F0B5"
      },
      "source": [
        "# Loading the required libraries\n",
        "\n",
        "import pandas as pd\n",
        "import numpy as np\n",
        "import matplotlib.pyplot as plt\n",
        "import seaborn as sns\n",
        "\n",
        "# To preview all rows and columns\n",
        "pd.set_option('display.max_columns', None)\n",
        "pd.set_option('display.max_rows', None)"
      ],
      "execution_count": 124,
      "outputs": []
    },
    {
      "cell_type": "code",
      "metadata": {
        "id": "ZFt_VOxaIWQF"
      },
      "source": [
        "# Loading the dataset\n",
        "df=pd.read_csv('https://bit.ly/UsersBehaviourTelco')"
      ],
      "execution_count": 125,
      "outputs": []
    },
    {
      "cell_type": "code",
      "metadata": {
        "id": "xNcUO9TmGQY9",
        "colab": {
          "base_uri": "https://localhost:8080/",
          "height": 206
        },
        "outputId": "c0f360c5-55f4-46ec-8e47-1edd1196abb6"
      },
      "source": [
        "# Previewing the first 5 records\n",
        "df.head()"
      ],
      "execution_count": 126,
      "outputs": [
        {
          "output_type": "execute_result",
          "data": {
            "text/html": [
              "<div>\n",
              "<style scoped>\n",
              "    .dataframe tbody tr th:only-of-type {\n",
              "        vertical-align: middle;\n",
              "    }\n",
              "\n",
              "    .dataframe tbody tr th {\n",
              "        vertical-align: top;\n",
              "    }\n",
              "\n",
              "    .dataframe thead th {\n",
              "        text-align: right;\n",
              "    }\n",
              "</style>\n",
              "<table border=\"1\" class=\"dataframe\">\n",
              "  <thead>\n",
              "    <tr style=\"text-align: right;\">\n",
              "      <th></th>\n",
              "      <th>calls</th>\n",
              "      <th>minutes</th>\n",
              "      <th>messages</th>\n",
              "      <th>mb_used</th>\n",
              "      <th>is_ultra</th>\n",
              "    </tr>\n",
              "  </thead>\n",
              "  <tbody>\n",
              "    <tr>\n",
              "      <th>0</th>\n",
              "      <td>40.0</td>\n",
              "      <td>311.90</td>\n",
              "      <td>83.0</td>\n",
              "      <td>19915.42</td>\n",
              "      <td>0</td>\n",
              "    </tr>\n",
              "    <tr>\n",
              "      <th>1</th>\n",
              "      <td>85.0</td>\n",
              "      <td>516.75</td>\n",
              "      <td>56.0</td>\n",
              "      <td>22696.96</td>\n",
              "      <td>0</td>\n",
              "    </tr>\n",
              "    <tr>\n",
              "      <th>2</th>\n",
              "      <td>77.0</td>\n",
              "      <td>467.66</td>\n",
              "      <td>86.0</td>\n",
              "      <td>21060.45</td>\n",
              "      <td>0</td>\n",
              "    </tr>\n",
              "    <tr>\n",
              "      <th>3</th>\n",
              "      <td>106.0</td>\n",
              "      <td>745.53</td>\n",
              "      <td>81.0</td>\n",
              "      <td>8437.39</td>\n",
              "      <td>1</td>\n",
              "    </tr>\n",
              "    <tr>\n",
              "      <th>4</th>\n",
              "      <td>66.0</td>\n",
              "      <td>418.74</td>\n",
              "      <td>1.0</td>\n",
              "      <td>14502.75</td>\n",
              "      <td>0</td>\n",
              "    </tr>\n",
              "  </tbody>\n",
              "</table>\n",
              "</div>"
            ],
            "text/plain": [
              "   calls  minutes  messages   mb_used  is_ultra\n",
              "0   40.0   311.90      83.0  19915.42         0\n",
              "1   85.0   516.75      56.0  22696.96         0\n",
              "2   77.0   467.66      86.0  21060.45         0\n",
              "3  106.0   745.53      81.0   8437.39         1\n",
              "4   66.0   418.74       1.0  14502.75         0"
            ]
          },
          "metadata": {},
          "execution_count": 126
        }
      ]
    },
    {
      "cell_type": "code",
      "metadata": {
        "id": "Rtk-KKTPLmmd",
        "colab": {
          "base_uri": "https://localhost:8080/"
        },
        "outputId": "421dcdb4-4758-4b84-e9ca-b1833ba04d79"
      },
      "source": [
        "# Getting our dataset shape\n",
        "\n",
        "df.shape\n",
        "\n",
        "#dataframe has 3214 rows and 5 columns"
      ],
      "execution_count": 127,
      "outputs": [
        {
          "output_type": "execute_result",
          "data": {
            "text/plain": [
              "(3214, 5)"
            ]
          },
          "metadata": {},
          "execution_count": 127
        }
      ]
    },
    {
      "cell_type": "code",
      "metadata": {
        "id": "8lNBkI-OrR7C",
        "colab": {
          "base_uri": "https://localhost:8080/"
        },
        "outputId": "c8658f29-60ad-4203-8fea-1042d28171c0"
      },
      "source": [
        "# Looking for duplicates\n",
        "df.duplicated().sum()\n",
        "\n",
        "#there are no duplicate values "
      ],
      "execution_count": 128,
      "outputs": [
        {
          "output_type": "execute_result",
          "data": {
            "text/plain": [
              "0"
            ]
          },
          "metadata": {},
          "execution_count": 128
        }
      ]
    },
    {
      "cell_type": "code",
      "metadata": {
        "colab": {
          "base_uri": "https://localhost:8080/"
        },
        "id": "Xxztejv3Joyz",
        "outputId": "c5273786-25a5-47fc-b76a-13aa0caae69c"
      },
      "source": [
        "df.dtypes"
      ],
      "execution_count": 129,
      "outputs": [
        {
          "output_type": "execute_result",
          "data": {
            "text/plain": [
              "calls       float64\n",
              "minutes     float64\n",
              "messages    float64\n",
              "mb_used     float64\n",
              "is_ultra      int64\n",
              "dtype: object"
            ]
          },
          "metadata": {},
          "execution_count": 129
        }
      ]
    },
    {
      "cell_type": "code",
      "metadata": {
        "id": "6uuZbJSPz79W",
        "colab": {
          "base_uri": "https://localhost:8080/"
        },
        "outputId": "ed5dea92-eaa9-4790-9fac-29a78f67aa17"
      },
      "source": [
        "# Looking for null values \n",
        "\n",
        "df.isnull().sum()\n",
        "\n",
        "#there are no missing values "
      ],
      "execution_count": 130,
      "outputs": [
        {
          "output_type": "execute_result",
          "data": {
            "text/plain": [
              "calls       0\n",
              "minutes     0\n",
              "messages    0\n",
              "mb_used     0\n",
              "is_ultra    0\n",
              "dtype: int64"
            ]
          },
          "metadata": {},
          "execution_count": 130
        }
      ]
    },
    {
      "cell_type": "markdown",
      "metadata": {
        "id": "NQTTZBxbjvB2"
      },
      "source": [
        "### 2.2. Machine Learning"
      ]
    },
    {
      "cell_type": "markdown",
      "metadata": {
        "id": "Eq-Uzo0KwcrG"
      },
      "source": [
        "#### 2.2.1 Data Modelling"
      ]
    },
    {
      "cell_type": "markdown",
      "metadata": {
        "id": "Kmtq7pirDH1w"
      },
      "source": [
        "1. Open and look through the data file.\n",
        "2. Split the source data into a training set, a validation set, and a test set.\n"
      ]
    },
    {
      "cell_type": "code",
      "metadata": {
        "colab": {
          "base_uri": "https://localhost:8080/"
        },
        "id": "AdAlvzTPqgtu",
        "outputId": "f6ec144f-f290-419a-d53e-60212a8877cb"
      },
      "source": [
        "#preparing data \n",
        "x = df.drop(['is_ultra'], axis = 1)\n",
        "y = df['is_ultra']  \n",
        "\n",
        "#Split the source data into a training set, a validation set, and a test set.\n",
        "#spliting the dataset (ratio 3:1:1)\n",
        "from sklearn.model_selection import train_test_split\n",
        "\n",
        "X_train, X_test, y_train, y_test = train_test_split(x, y, test_size = 0.2, random_state = 42, stratify =y)\n",
        "X_train, X_valid, y_train, y_valid = train_test_split(X_train, y_train, test_size = 0.25, random_state = 42)\n",
        "\n",
        "#confirm size of datasets\n",
        "print(df.shape)\n",
        "print(X_train.shape)\n",
        "print(X_test.shape)\n",
        "print(y_train.shape)\n",
        "print(y_test.shape)\n",
        "print(X_valid.shape)\n",
        "print(y_valid.shape)"
      ],
      "execution_count": 131,
      "outputs": [
        {
          "output_type": "stream",
          "name": "stdout",
          "text": [
            "(3214, 5)\n",
            "(1928, 4)\n",
            "(643, 4)\n",
            "(1928,)\n",
            "(643,)\n",
            "(643, 4)\n",
            "(643,)\n"
          ]
        }
      ]
    },
    {
      "cell_type": "code",
      "metadata": {
        "id": "ZNFXnYGn6xe3"
      },
      "source": [
        "#import classifers \n",
        "from sklearn.linear_model import LogisticRegression # Logistic Regression Classifier\n",
        "from sklearn.tree import DecisionTreeClassifier     # Decision Tree Classifier\n",
        "from sklearn.ensemble import RandomForestClassifier #Random Forest Classifer\n",
        "from sklearn.dummy import DummyClassifier           #dummy classifer"
      ],
      "execution_count": 132,
      "outputs": []
    },
    {
      "cell_type": "code",
      "metadata": {
        "id": "rrR7vwjU7D06"
      },
      "source": [
        "#instance of classifers \n",
        "logistic_classifier = LogisticRegression()\n",
        "decision_classifier = DecisionTreeClassifier()\n",
        "random_classifer = RandomForestClassifier()\n",
        "dummy_classifer = DummyClassifier()"
      ],
      "execution_count": 133,
      "outputs": []
    },
    {
      "cell_type": "code",
      "metadata": {
        "colab": {
          "base_uri": "https://localhost:8080/"
        },
        "id": "XpwE4m367F_-",
        "outputId": "3bde222a-bb63-4922-bfa6-3b6909e914e0"
      },
      "source": [
        "#train model\n",
        "logistic_classifier.fit(X_train, y_train)\n",
        "decision_classifier.fit(X_train, y_train)\n",
        "random_classifer.fit(X_train, y_train)\n",
        "dummy_classifer.fit(X_train, y_train)"
      ],
      "execution_count": 134,
      "outputs": [
        {
          "output_type": "stream",
          "name": "stderr",
          "text": [
            "/usr/local/lib/python3.7/dist-packages/sklearn/dummy.py:132: FutureWarning: The default value of strategy will change from stratified to prior in 0.24.\n",
            "  \"stratified to prior in 0.24.\", FutureWarning)\n"
          ]
        },
        {
          "output_type": "execute_result",
          "data": {
            "text/plain": [
              "DummyClassifier(constant=None, random_state=None, strategy='warn')"
            ]
          },
          "metadata": {},
          "execution_count": 134
        }
      ]
    },
    {
      "cell_type": "code",
      "metadata": {
        "id": "_Rm5uQpP7IUn"
      },
      "source": [
        "#predict test results\n",
        "logistic_y_prediction = logistic_classifier.predict(X_test) \n",
        "decision_y_prediction = decision_classifier.predict(X_test) \n",
        "random_y_prediction = random_classifer.predict(X_test) \n",
        "dummy_y_prediction = dummy_classifer.predict(X_test) "
      ],
      "execution_count": 135,
      "outputs": []
    },
    {
      "cell_type": "code",
      "metadata": {
        "colab": {
          "base_uri": "https://localhost:8080/",
          "height": 206
        },
        "id": "RjXyL67hBSia",
        "outputId": "33c34d00-45f4-4b96-9c59-26889bc21207"
      },
      "source": [
        "#compare actual values with predicted values\n",
        "df_logistic = pd.DataFrame({'Actual': y_test, 'Predicted': logistic_y_prediction })\n",
        "df_logistic.head()"
      ],
      "execution_count": 136,
      "outputs": [
        {
          "output_type": "execute_result",
          "data": {
            "text/html": [
              "<div>\n",
              "<style scoped>\n",
              "    .dataframe tbody tr th:only-of-type {\n",
              "        vertical-align: middle;\n",
              "    }\n",
              "\n",
              "    .dataframe tbody tr th {\n",
              "        vertical-align: top;\n",
              "    }\n",
              "\n",
              "    .dataframe thead th {\n",
              "        text-align: right;\n",
              "    }\n",
              "</style>\n",
              "<table border=\"1\" class=\"dataframe\">\n",
              "  <thead>\n",
              "    <tr style=\"text-align: right;\">\n",
              "      <th></th>\n",
              "      <th>Actual</th>\n",
              "      <th>Predicted</th>\n",
              "    </tr>\n",
              "  </thead>\n",
              "  <tbody>\n",
              "    <tr>\n",
              "      <th>1201</th>\n",
              "      <td>0</td>\n",
              "      <td>0</td>\n",
              "    </tr>\n",
              "    <tr>\n",
              "      <th>3093</th>\n",
              "      <td>0</td>\n",
              "      <td>0</td>\n",
              "    </tr>\n",
              "    <tr>\n",
              "      <th>2995</th>\n",
              "      <td>1</td>\n",
              "      <td>0</td>\n",
              "    </tr>\n",
              "    <tr>\n",
              "      <th>2739</th>\n",
              "      <td>1</td>\n",
              "      <td>1</td>\n",
              "    </tr>\n",
              "    <tr>\n",
              "      <th>232</th>\n",
              "      <td>1</td>\n",
              "      <td>0</td>\n",
              "    </tr>\n",
              "  </tbody>\n",
              "</table>\n",
              "</div>"
            ],
            "text/plain": [
              "      Actual  Predicted\n",
              "1201       0          0\n",
              "3093       0          0\n",
              "2995       1          0\n",
              "2739       1          1\n",
              "232        1          0"
            ]
          },
          "metadata": {},
          "execution_count": 136
        }
      ]
    },
    {
      "cell_type": "code",
      "metadata": {
        "colab": {
          "base_uri": "https://localhost:8080/",
          "height": 206
        },
        "id": "8DQxutJbCCRX",
        "outputId": "2a5b808f-442f-404a-d81c-08893ee39b72"
      },
      "source": [
        "#compare actual values with predicted values\n",
        "df_decision = pd.DataFrame({'Actual': y_test, 'Predicted': decision_y_prediction })\n",
        "df_decision.head()"
      ],
      "execution_count": 137,
      "outputs": [
        {
          "output_type": "execute_result",
          "data": {
            "text/html": [
              "<div>\n",
              "<style scoped>\n",
              "    .dataframe tbody tr th:only-of-type {\n",
              "        vertical-align: middle;\n",
              "    }\n",
              "\n",
              "    .dataframe tbody tr th {\n",
              "        vertical-align: top;\n",
              "    }\n",
              "\n",
              "    .dataframe thead th {\n",
              "        text-align: right;\n",
              "    }\n",
              "</style>\n",
              "<table border=\"1\" class=\"dataframe\">\n",
              "  <thead>\n",
              "    <tr style=\"text-align: right;\">\n",
              "      <th></th>\n",
              "      <th>Actual</th>\n",
              "      <th>Predicted</th>\n",
              "    </tr>\n",
              "  </thead>\n",
              "  <tbody>\n",
              "    <tr>\n",
              "      <th>1201</th>\n",
              "      <td>0</td>\n",
              "      <td>0</td>\n",
              "    </tr>\n",
              "    <tr>\n",
              "      <th>3093</th>\n",
              "      <td>0</td>\n",
              "      <td>1</td>\n",
              "    </tr>\n",
              "    <tr>\n",
              "      <th>2995</th>\n",
              "      <td>1</td>\n",
              "      <td>0</td>\n",
              "    </tr>\n",
              "    <tr>\n",
              "      <th>2739</th>\n",
              "      <td>1</td>\n",
              "      <td>1</td>\n",
              "    </tr>\n",
              "    <tr>\n",
              "      <th>232</th>\n",
              "      <td>1</td>\n",
              "      <td>0</td>\n",
              "    </tr>\n",
              "  </tbody>\n",
              "</table>\n",
              "</div>"
            ],
            "text/plain": [
              "      Actual  Predicted\n",
              "1201       0          0\n",
              "3093       0          1\n",
              "2995       1          0\n",
              "2739       1          1\n",
              "232        1          0"
            ]
          },
          "metadata": {},
          "execution_count": 137
        }
      ]
    },
    {
      "cell_type": "code",
      "metadata": {
        "colab": {
          "base_uri": "https://localhost:8080/",
          "height": 206
        },
        "id": "MZhG1IXECDGv",
        "outputId": "e5aefc44-0508-4870-f993-d4c48e8b18da"
      },
      "source": [
        "#compare actual values with predicted values\n",
        "df_random = pd.DataFrame({'Actual': y_test, 'Predicted': random_y_prediction })\n",
        "df_random.head()"
      ],
      "execution_count": 138,
      "outputs": [
        {
          "output_type": "execute_result",
          "data": {
            "text/html": [
              "<div>\n",
              "<style scoped>\n",
              "    .dataframe tbody tr th:only-of-type {\n",
              "        vertical-align: middle;\n",
              "    }\n",
              "\n",
              "    .dataframe tbody tr th {\n",
              "        vertical-align: top;\n",
              "    }\n",
              "\n",
              "    .dataframe thead th {\n",
              "        text-align: right;\n",
              "    }\n",
              "</style>\n",
              "<table border=\"1\" class=\"dataframe\">\n",
              "  <thead>\n",
              "    <tr style=\"text-align: right;\">\n",
              "      <th></th>\n",
              "      <th>Actual</th>\n",
              "      <th>Predicted</th>\n",
              "    </tr>\n",
              "  </thead>\n",
              "  <tbody>\n",
              "    <tr>\n",
              "      <th>1201</th>\n",
              "      <td>0</td>\n",
              "      <td>0</td>\n",
              "    </tr>\n",
              "    <tr>\n",
              "      <th>3093</th>\n",
              "      <td>0</td>\n",
              "      <td>1</td>\n",
              "    </tr>\n",
              "    <tr>\n",
              "      <th>2995</th>\n",
              "      <td>1</td>\n",
              "      <td>0</td>\n",
              "    </tr>\n",
              "    <tr>\n",
              "      <th>2739</th>\n",
              "      <td>1</td>\n",
              "      <td>1</td>\n",
              "    </tr>\n",
              "    <tr>\n",
              "      <th>232</th>\n",
              "      <td>1</td>\n",
              "      <td>0</td>\n",
              "    </tr>\n",
              "  </tbody>\n",
              "</table>\n",
              "</div>"
            ],
            "text/plain": [
              "      Actual  Predicted\n",
              "1201       0          0\n",
              "3093       0          1\n",
              "2995       1          0\n",
              "2739       1          1\n",
              "232        1          0"
            ]
          },
          "metadata": {},
          "execution_count": 138
        }
      ]
    },
    {
      "cell_type": "markdown",
      "metadata": {
        "id": "FioWO5BcjLyO"
      },
      "source": [
        "#### 2.2.2 Evaluation Metrics"
      ]
    },
    {
      "cell_type": "markdown",
      "metadata": {
        "id": "2ilwcA6EDB2g"
      },
      "source": [
        "3. Investigate the quality of different models by changing hyperparameters. Briefly\n",
        "describe the findings of the study.\n",
        "4. Check the quality of the model using the test set.\n",
        "5. Additional task: sanity check the model. This data is more complex than what\n",
        "you’re used to working with, so it's not an easy task. We'll take a closer look at it\n",
        "later.\n"
      ]
    },
    {
      "cell_type": "code",
      "metadata": {
        "colab": {
          "base_uri": "https://localhost:8080/"
        },
        "id": "pLeTlVVv7KJp",
        "outputId": "54197c6d-cfe4-476b-8498-00f2b0747c81"
      },
      "source": [
        "from sklearn.metrics import accuracy_score \n",
        "#print accuracy of classifers\n",
        "print('Logistic classifier:') \n",
        "print(accuracy_score(logistic_y_prediction, y_test)) \n",
        "print('Decision Tree classifier:')\n",
        "print(accuracy_score(decision_y_prediction, y_test))\n",
        "print('Random Forest classifier:')\n",
        "print(accuracy_score(random_y_prediction, y_test))\n",
        "print('Dummy classifier:')\n",
        "print(accuracy_score(dummy_y_prediction, y_test))\n",
        "\n",
        "#the most accurate classifer is random forest classifer at 0.8\n",
        "#by random guessing the accuracy score is at 0.56"
      ],
      "execution_count": 139,
      "outputs": [
        {
          "output_type": "stream",
          "name": "stdout",
          "text": [
            "Logistic classifier:\n",
            "0.7107309486780715\n",
            "Decision Tree classifier:\n",
            "0.7340590979782271\n",
            "Random Forest classifier:\n",
            "0.8009331259720062\n",
            "Dummy classifier:\n",
            "0.5645412130637636\n"
          ]
        }
      ]
    },
    {
      "cell_type": "code",
      "metadata": {
        "colab": {
          "base_uri": "https://localhost:8080/"
        },
        "id": "9D5mBL5d7Q_v",
        "outputId": "85265eb3-24ef-483c-d163-24215a0fe7d3"
      },
      "source": [
        "from sklearn.metrics import classification_report\n",
        "\n",
        "#classification report \n",
        "print('Logistic classifier:')\n",
        "print(classification_report(y_test, logistic_y_prediction))\n",
        "\n",
        "print('Decision Tree classifier:')\n",
        "print(classification_report(y_test, decision_y_prediction)) \n",
        "\n",
        "print('Random Forest classifier:')\n",
        "print(classification_report(y_test, random_y_prediction)) \n",
        "\n",
        "print('Dummy Classifier:')\n",
        "print(classification_report(y_test, dummy_y_prediction))\n",
        "\n",
        "#the most accurate classifer remains to be random forest "
      ],
      "execution_count": 140,
      "outputs": [
        {
          "output_type": "stream",
          "name": "stdout",
          "text": [
            "Logistic classifier:\n",
            "              precision    recall  f1-score   support\n",
            "\n",
            "           0       0.71      0.99      0.83       446\n",
            "           1       0.74      0.09      0.15       197\n",
            "\n",
            "    accuracy                           0.71       643\n",
            "   macro avg       0.72      0.54      0.49       643\n",
            "weighted avg       0.72      0.71      0.62       643\n",
            "\n",
            "Decision Tree classifier:\n",
            "              precision    recall  f1-score   support\n",
            "\n",
            "           0       0.80      0.82      0.81       446\n",
            "           1       0.57      0.54      0.56       197\n",
            "\n",
            "    accuracy                           0.73       643\n",
            "   macro avg       0.69      0.68      0.68       643\n",
            "weighted avg       0.73      0.73      0.73       643\n",
            "\n",
            "Random Forest classifier:\n",
            "              precision    recall  f1-score   support\n",
            "\n",
            "           0       0.82      0.91      0.86       446\n",
            "           1       0.73      0.55      0.63       197\n",
            "\n",
            "    accuracy                           0.80       643\n",
            "   macro avg       0.78      0.73      0.75       643\n",
            "weighted avg       0.79      0.80      0.79       643\n",
            "\n",
            "Dummy Classifier:\n",
            "              precision    recall  f1-score   support\n",
            "\n",
            "           0       0.69      0.68      0.69       446\n",
            "           1       0.29      0.29      0.29       197\n",
            "\n",
            "    accuracy                           0.56       643\n",
            "   macro avg       0.49      0.49      0.49       643\n",
            "weighted avg       0.57      0.56      0.57       643\n",
            "\n"
          ]
        }
      ]
    },
    {
      "cell_type": "code",
      "metadata": {
        "colab": {
          "base_uri": "https://localhost:8080/"
        },
        "id": "3vHSgMZD7ZGg",
        "outputId": "16cc3328-9080-4be8-dc69-098e0b302f71"
      },
      "source": [
        "#confusion matrix \n",
        "from sklearn.metrics import confusion_matrix \n",
        " \n",
        "print('Logistic Regression classifier:')\n",
        "print(confusion_matrix(logistic_y_prediction, y_test)) \n",
        "\n",
        "print('Decision Tree classifier:')\n",
        "print(confusion_matrix(decision_y_prediction, y_test)) \n",
        "\n",
        "print('Random Forest classifier:')\n",
        "print(confusion_matrix(random_y_prediction, y_test))  \n",
        "\n",
        "#random forest remains to be the best model "
      ],
      "execution_count": 141,
      "outputs": [
        {
          "output_type": "stream",
          "name": "stdout",
          "text": [
            "Logistic Regression classifier:\n",
            "[[440 180]\n",
            " [  6  17]]\n",
            "Decision Tree classifier:\n",
            "[[365  90]\n",
            " [ 81 107]]\n",
            "Random Forest classifier:\n",
            "[[406  88]\n",
            " [ 40 109]]\n"
          ]
        }
      ]
    },
    {
      "cell_type": "markdown",
      "metadata": {
        "id": "sPKQNegPjVsN"
      },
      "source": [
        "#### 2.2.3 Hyperparameter Tuning "
      ]
    },
    {
      "cell_type": "code",
      "metadata": {
        "colab": {
          "base_uri": "https://localhost:8080/"
        },
        "id": "UgvIBasFe6Vz",
        "outputId": "24dd08bf-f539-485b-fe88-61d145674a7c"
      },
      "source": [
        "#logistic regression Tuning\n",
        "LogisticRegression_model = LogisticRegression(\n",
        "    random_state=12345, tol=1e-10, solver='liblinear',n_jobs=-1, penalty='l2')\n",
        "\n",
        "#train a model by calling the fit() method \n",
        "LogisticRegression_model.fit(X_train,y_train)\n",
        "\n",
        "#predict answers \n",
        "logistic_y_pred = LogisticRegression_model.predict(X_test) \n",
        "\n",
        "#Classifier report\n",
        "print('Logistic Regression classifier:')\n",
        "print(classification_report(y_test, logistic_y_pred)) \n",
        " \n",
        "print('Logistic Regression classifier:')\n",
        "print(confusion_matrix(logistic_y_pred, y_test))\n",
        "\n",
        "#accuracy score for logistic model has increased from 0.71 to 0.74 "
      ],
      "execution_count": 142,
      "outputs": [
        {
          "output_type": "stream",
          "name": "stdout",
          "text": [
            "Logistic Regression classifier:\n",
            "              precision    recall  f1-score   support\n",
            "\n",
            "           0       0.74      0.98      0.84       446\n",
            "           1       0.85      0.20      0.33       197\n",
            "\n",
            "    accuracy                           0.74       643\n",
            "   macro avg       0.79      0.59      0.59       643\n",
            "weighted avg       0.77      0.74      0.68       643\n",
            "\n",
            "Logistic Regression classifier:\n",
            "[[439 157]\n",
            " [  7  40]]\n"
          ]
        },
        {
          "output_type": "stream",
          "name": "stderr",
          "text": [
            "/usr/local/lib/python3.7/dist-packages/sklearn/linear_model/_logistic.py:1539: UserWarning: 'n_jobs' > 1 does not have any effect when 'solver' is set to 'liblinear'. Got 'n_jobs' = 2.\n",
            "  \" = {}.\".format(effective_n_jobs(self.n_jobs)))\n"
          ]
        }
      ]
    },
    {
      "cell_type": "code",
      "metadata": {
        "colab": {
          "base_uri": "https://localhost:8080/"
        },
        "id": "IOze7Ywdj5NR",
        "outputId": "f7e43fec-6da6-4b03-f24b-a72654f58c52"
      },
      "source": [
        "#Decision Tree Tuning\n",
        "parameter = {\n",
        "\"criterion\":[\"gini\", \"entropy\"],\n",
        "\"max_depth\":[1,3,5,7,15],\n",
        "\"min_samples_split\":[2,4,8, 16],\n",
        "\"min_samples_leaf\":[2,4,6]}\n",
        "\n",
        "from sklearn.model_selection import GridSearchCV\n",
        "Search = GridSearchCV(DecisionTreeClassifier(), parameter, cv=5).fit(X_train, y_train)\n",
        "y_pred = Search.predict(X_test)\n",
        "\n",
        "print(accuracy_score(y_test, y_pred))\n",
        "print(confusion_matrix(y_test, y_pred))\n",
        "print(classification_report(y_test, y_pred)) \n",
        "\n",
        "#using the best parameters, the accuracy score for decision tree increases from 0.73 to 0.80"
      ],
      "execution_count": 143,
      "outputs": [
        {
          "output_type": "stream",
          "name": "stdout",
          "text": [
            "0.8009331259720062\n",
            "[[431  15]\n",
            " [113  84]]\n",
            "              precision    recall  f1-score   support\n",
            "\n",
            "           0       0.79      0.97      0.87       446\n",
            "           1       0.85      0.43      0.57       197\n",
            "\n",
            "    accuracy                           0.80       643\n",
            "   macro avg       0.82      0.70      0.72       643\n",
            "weighted avg       0.81      0.80      0.78       643\n",
            "\n"
          ]
        }
      ]
    },
    {
      "cell_type": "code",
      "metadata": {
        "colab": {
          "base_uri": "https://localhost:8080/"
        },
        "id": "Q6ETtg5esVXJ",
        "outputId": "4a08538d-08b4-46fe-a162-ff5c19a11b10"
      },
      "source": [
        "# #create a model and assign it to a variable \n",
        "dec_model = DecisionTreeClassifier(**Search.best_params_,random_state=12345)\n",
        "\n",
        "#train a model by calling the fit() method \n",
        "dec_model.fit(X_train,y_train)\n",
        "\n",
        "#predict answers \n",
        "dec_y_pred = dec_model.predict(X_test) \n",
        "\n",
        "#Classifier report \n",
        "print(classification_report(y_test, dec_y_pred)) \n",
        "\n",
        "print(confusion_matrix(dec_y_pred, y_test))"
      ],
      "execution_count": 144,
      "outputs": [
        {
          "output_type": "stream",
          "name": "stdout",
          "text": [
            "              precision    recall  f1-score   support\n",
            "\n",
            "           0       0.79      0.97      0.87       446\n",
            "           1       0.85      0.43      0.57       197\n",
            "\n",
            "    accuracy                           0.80       643\n",
            "   macro avg       0.82      0.70      0.72       643\n",
            "weighted avg       0.81      0.80      0.78       643\n",
            "\n",
            "[[431 112]\n",
            " [ 15  85]]\n"
          ]
        }
      ]
    },
    {
      "cell_type": "code",
      "metadata": {
        "colab": {
          "base_uri": "https://localhost:8080/"
        },
        "id": "4k1wu0nVwrkF",
        "outputId": "5d19eec7-9551-4918-a953-b59e367fc911"
      },
      "source": [
        "#Random Forest Tuning\n",
        "from sklearn.model_selection import RandomizedSearchCV\n",
        "from scipy.stats import randint as sp_randint\n",
        "\n",
        "param_dist = {\"max_depth\": [1,3,5,7,15],\n",
        "              \"max_features\": sp_randint(1, X_train.shape[1]),\n",
        "              \"min_samples_split\": sp_randint(2, 16),\n",
        "              \"bootstrap\": [True, False],\n",
        "              \"n_estimators\": sp_randint(10, 500)}\n",
        "\n",
        "random_search = RandomizedSearchCV(RandomForestClassifier(), param_distributions=param_dist,\n",
        "                                   n_iter=10, cv=5, iid=False, random_state=42)\n",
        "\n",
        "\n",
        "random_search.fit(X_train,y_train)   \n",
        "\n",
        "random_y_pred = random_search.predict(X_test)\n",
        "\n",
        "print(random_search.best_params_)\n",
        "print(accuracy_score(y_test, random_y_pred))\n",
        "print(confusion_matrix(y_test, random_y_pred))\n",
        "print(classification_report(y_test, random_y_pred)) \n",
        "\n",
        "\n",
        "#using the best parameters, the accuracy score for random forest increases from 0.80 to 0.82"
      ],
      "execution_count": 147,
      "outputs": [
        {
          "output_type": "stream",
          "name": "stderr",
          "text": [
            "/usr/local/lib/python3.7/dist-packages/sklearn/model_selection/_search.py:823: FutureWarning: The parameter 'iid' is deprecated in 0.22 and will be removed in 0.24.\n",
            "  \"removed in 0.24.\", FutureWarning\n"
          ]
        },
        {
          "output_type": "stream",
          "name": "stdout",
          "text": [
            "{'bootstrap': True, 'max_depth': 7, 'max_features': 1, 'min_samples_split': 12, 'n_estimators': 81}\n",
            "0.8164852255054432\n",
            "[[423  23]\n",
            " [ 95 102]]\n",
            "              precision    recall  f1-score   support\n",
            "\n",
            "           0       0.82      0.95      0.88       446\n",
            "           1       0.82      0.52      0.63       197\n",
            "\n",
            "    accuracy                           0.82       643\n",
            "   macro avg       0.82      0.73      0.76       643\n",
            "weighted avg       0.82      0.82      0.80       643\n",
            "\n"
          ]
        }
      ]
    },
    {
      "cell_type": "code",
      "metadata": {
        "colab": {
          "base_uri": "https://localhost:8080/"
        },
        "id": "YI4ntbhRydq8",
        "outputId": "65114bc1-f74c-48b7-dca8-eb65b996dbcb"
      },
      "source": [
        "# #create a model and assign it to a variable \n",
        "Forest_model = RandomForestClassifier(**random_search.best_params_,random_state=42)\n",
        "\n",
        "#train a model by calling the fit() method \n",
        "Forest_model.fit(X_train,y_train)\n",
        "\n",
        "#predict answers \n",
        "forest_y_pred = Forest_model.predict(X_test) \n",
        "\n",
        "#Classifier report \n",
        "print(classification_report(y_test, forest_y_pred)) \n",
        "\n",
        "print(confusion_matrix(forest_y_pred, y_test))"
      ],
      "execution_count": 148,
      "outputs": [
        {
          "output_type": "stream",
          "name": "stdout",
          "text": [
            "              precision    recall  f1-score   support\n",
            "\n",
            "           0       0.82      0.95      0.88       446\n",
            "           1       0.83      0.53      0.65       197\n",
            "\n",
            "    accuracy                           0.82       643\n",
            "   macro avg       0.82      0.74      0.76       643\n",
            "weighted avg       0.82      0.82      0.81       643\n",
            "\n",
            "[[424  92]\n",
            " [ 22 105]]\n"
          ]
        }
      ]
    },
    {
      "cell_type": "markdown",
      "metadata": {
        "id": "KD2a1jeccBEv"
      },
      "source": [
        "## 3. Summary of Findings and Recommedations"
      ]
    },
    {
      "cell_type": "code",
      "metadata": {
        "colab": {
          "base_uri": "https://localhost:8080/",
          "height": 112
        },
        "id": "ND0xl2oh0res",
        "outputId": "09d5c491-5c13-4bdc-ffe0-1f8f0767eac6"
      },
      "source": [
        "df.sample(2)"
      ],
      "execution_count": 119,
      "outputs": [
        {
          "output_type": "execute_result",
          "data": {
            "text/html": [
              "<div>\n",
              "<style scoped>\n",
              "    .dataframe tbody tr th:only-of-type {\n",
              "        vertical-align: middle;\n",
              "    }\n",
              "\n",
              "    .dataframe tbody tr th {\n",
              "        vertical-align: top;\n",
              "    }\n",
              "\n",
              "    .dataframe thead th {\n",
              "        text-align: right;\n",
              "    }\n",
              "</style>\n",
              "<table border=\"1\" class=\"dataframe\">\n",
              "  <thead>\n",
              "    <tr style=\"text-align: right;\">\n",
              "      <th></th>\n",
              "      <th>calls</th>\n",
              "      <th>minutes</th>\n",
              "      <th>messages</th>\n",
              "      <th>mb_used</th>\n",
              "      <th>is_ultra</th>\n",
              "    </tr>\n",
              "  </thead>\n",
              "  <tbody>\n",
              "    <tr>\n",
              "      <th>2340</th>\n",
              "      <td>38.0</td>\n",
              "      <td>277.94</td>\n",
              "      <td>0.0</td>\n",
              "      <td>17402.54</td>\n",
              "      <td>1</td>\n",
              "    </tr>\n",
              "    <tr>\n",
              "      <th>830</th>\n",
              "      <td>61.0</td>\n",
              "      <td>436.15</td>\n",
              "      <td>34.0</td>\n",
              "      <td>9894.75</td>\n",
              "      <td>0</td>\n",
              "    </tr>\n",
              "  </tbody>\n",
              "</table>\n",
              "</div>"
            ],
            "text/plain": [
              "      calls  minutes  messages   mb_used  is_ultra\n",
              "2340   38.0   277.94       0.0  17402.54         1\n",
              "830    61.0   436.15      34.0   9894.75         0"
            ]
          },
          "metadata": {},
          "execution_count": 119
        }
      ]
    },
    {
      "cell_type": "code",
      "metadata": {
        "colab": {
          "base_uri": "https://localhost:8080/"
        },
        "id": "M2WSD1jJ0jLD",
        "outputId": "64bab2b6-a641-4df2-a373-2eaa185bc4d1"
      },
      "source": [
        "# testing our models\n",
        "# \n",
        "from sklearn.preprocessing import MinMaxScaler\n",
        "norm = MinMaxScaler().fit(X_train)\n",
        "megaline_new = [[38,\t277.94, 0.0,17402.54 ]]\n",
        "\n",
        "# We will need to transform our new case\n",
        "megaline_new = norm.transform(megaline_new)  \n",
        "\n",
        "print('Logistic Regression classifier', LogisticRegression_model.predict(megaline_new))\n",
        "print('Decision Tree classifier:', dec_model.predict(megaline_new))\n",
        "print('Random Forest:', Forest_model.predict(megaline_new))\n"
      ],
      "execution_count": 149,
      "outputs": [
        {
          "output_type": "stream",
          "name": "stdout",
          "text": [
            "Logistic Regression classifier [0]\n",
            "Decision Tree classifier: [1]\n",
            "Random Forest: [1]\n"
          ]
        }
      ]
    },
    {
      "cell_type": "markdown",
      "metadata": {
        "id": "hZn1-mFnKDp8"
      },
      "source": [
        "Findings:\n",
        "\n",
        "Random Forest and Decision Tree classifers are reliable since they accuretly predicts a customer's plan "
      ]
    }
  ]
}